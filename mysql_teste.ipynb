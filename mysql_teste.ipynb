{
 "cells": [
  {
   "cell_type": "code",
   "execution_count": null,
   "id": "88bfc497-7dd8-4310-8689-9352c471f130",
   "metadata": {},
   "outputs": [],
   "source": [
    "CREATE DATABASE LIVRARIA;\n",
    "\n",
    "CREATE TABLE LIVROS(\n",
    "\tLIVRO VARCHAR(100),\n",
    "\tAUTOR VARCHAR(100),\n",
    "\tSEXO CHAR(1),\n",
    "\tPAGINAS INT(5),\n",
    "\tEDITORA VARCHAR(30),\n",
    "\tVALOR FLOAT(10,2),\n",
    "\tUF CHAR(2),\n",
    "\tANO INT(4)\n",
    ");\n",
    "\n",
    "\n",
    "INSERT INTO LIVROS VALUES('Cavaleiro Real','Ana Claudia','F',465,'Atlas',49.9,'RJ',2009);\n",
    "INSERT INTO LIVROS VALUES('SQL para leigos','João Nunes','M',450,'Addison',98,'SP',2018);\n",
    "INSERT INTO LIVROS VALUES('Receitas Caseiras','Celia Tavares','F',210,'Atlas',45,'RJ',2008);\n",
    "INSERT INTO LIVROS VALUES('Pessoas Efetivas','Eduardo Santos','M',390,'Beta',78,'RJ',2018);\n",
    "INSERT INTO LIVROS VALUES('Habitos Saudáveis','Eduardo Santos','M',630,'Beta',150,'RJ',2019);\n",
    "INSERT INTO LIVROS VALUES('A Casa Marrom','Hermes Macedo','M',250,'Bubba',60,'MG',2016);\n",
    "INSERT INTO LIVROS VALUES('Estacio Querido','Geraldo Francisco','M',310,'Insignia',100,'ES',2015);\n",
    "INSERT INTO LIVROS VALUES('Pra sempre amigas','Leda Silva','F',510,'Insignia',78,'ES',2011);\n",
    "INSERT INTO LIVROS VALUES('Copas Inesqueciveis','Marco Alcantara','M',200,'Larson',130,'RS',2018);\n",
    "INSERT INTO LIVROS VALUES('O poder da mente','Clara Mafra','F',120,'Continental',56,'SP',2017);\n",
    "\n",
    "\n",
    "\n",
    "use livraria;\n",
    "\n",
    "show tables;\n",
    "desc livros;\n",
    "\n",
    "\n",
    "select livro, autor, sexo from livros; \n",
    "\n",
    "select * from livros;\n",
    "\n",
    "SELECT LIVRO, VALOR\n",
    "FROM LIVROS\n",
    "WHERE UF = 'SP';\n",
    "\n",
    "SELECT UF, LIVRO, VALOR\n",
    "FROM LIVROS\n",
    "WHERE UF = 'SP';\n",
    "\n",
    "SELECT AUTOR, SEXO, UF\n",
    "FROM LIVROS\n",
    "WHERE SEXO = 'M'\n",
    "AND UF = 'SP'\n",
    "AND paginas > 100;\n",
    "\n",
    "SELECT AUTOR, SEXO, UF\n",
    "FROM LIVROS\n",
    "WHERE \n",
    "SEXO = 'M' AND (UF = 'SP' OR UF = 'RJ');"
   ]
  },
  {
   "cell_type": "code",
   "execution_count": null,
   "id": "3be6ff53",
   "metadata": {},
   "outputs": [],
   "source": []
  }
 ],
 "metadata": {
  "kernelspec": {
   "display_name": "Python 3 (ipykernel)",
   "language": "python",
   "name": "python3"
  },
  "language_info": {
   "codemirror_mode": {
    "name": "ipython",
    "version": 3
   },
   "file_extension": ".py",
   "mimetype": "text/x-python",
   "name": "python",
   "nbconvert_exporter": "python",
   "pygments_lexer": "ipython3",
   "version": "3.11.7"
  }
 },
 "nbformat": 4,
 "nbformat_minor": 5
}
